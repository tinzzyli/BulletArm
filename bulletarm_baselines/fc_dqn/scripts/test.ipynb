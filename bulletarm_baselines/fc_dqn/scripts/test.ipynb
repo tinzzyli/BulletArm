{
 "cells": [
  {
   "cell_type": "code",
   "execution_count": 1,
   "metadata": {},
   "outputs": [],
   "source": [
    "def read_numeric_values(file_path):\n",
    "    all_numeric_values = []\n",
    "\n",
    "    with open(file_path, 'r') as file:\n",
    "        for line in file:\n",
    "            # Use regex to extract numeric values from the line\n",
    "            values = [float(match) for match in re.findall(r'[-+]?\\d*\\.\\d+(?:[eE][-+]?\\d+)?|\\d+', line)]\n",
    "            all_numeric_values.append(values)\n",
    "\n",
    "    return all_numeric_values\n",
    "\n",
    "def getAttackedPosFromValues(file_path):\n",
    "    values = read_numeric_values(file_path)\n",
    "    pos = []\n",
    "    for v in values:\n",
    "        pos.append(v[4:6])\n",
    "    return pos\n",
    "\n",
    "def getRewardFromValues(file_path):\n",
    "    values = read_numeric_values(file_path)\n",
    "    reward = []\n",
    "    for v in values:\n",
    "        reward.append(v[-1])\n",
    "    return reward"
   ]
  },
  {
   "cell_type": "code",
   "execution_count": 11,
   "metadata": {},
   "outputs": [
    {
     "ename": "FileNotFoundError",
     "evalue": "[Errno 2] No such file or directory: './object_original_position.txt'",
     "output_type": "error",
     "traceback": [
      "\u001b[0;31m---------------------------------------------------------------------------\u001b[0m",
      "\u001b[0;31mFileNotFoundError\u001b[0m                         Traceback (most recent call last)",
      "\u001b[1;32m/Users/tingxi/Github/BulletArm/bulletarm_baselines/fc_dqn/scripts/test.ipynb Cell 2\u001b[0m line \u001b[0;36m4\n\u001b[1;32m      <a href='vscode-notebook-cell:/Users/tingxi/Github/BulletArm/bulletarm_baselines/fc_dqn/scripts/test.ipynb#W0sZmlsZQ%3D%3D?line=0'>1</a>\u001b[0m file_path \u001b[39m=\u001b[39m \u001b[39m\"\u001b[39m\u001b[39m./object_original_position.txt\u001b[39m\u001b[39m\"\u001b[39m\n\u001b[1;32m      <a href='vscode-notebook-cell:/Users/tingxi/Github/BulletArm/bulletarm_baselines/fc_dqn/scripts/test.ipynb#W0sZmlsZQ%3D%3D?line=1'>2</a>\u001b[0m object_index \u001b[39m=\u001b[39m \u001b[39m0\u001b[39m\n\u001b[0;32m----> <a href='vscode-notebook-cell:/Users/tingxi/Github/BulletArm/bulletarm_baselines/fc_dqn/scripts/test.ipynb#W0sZmlsZQ%3D%3D?line=3'>4</a>\u001b[0m attackedPos \u001b[39m=\u001b[39m getAttackedPosFromValues(file_path)\n\u001b[1;32m      <a href='vscode-notebook-cell:/Users/tingxi/Github/BulletArm/bulletarm_baselines/fc_dqn/scripts/test.ipynb#W0sZmlsZQ%3D%3D?line=4'>5</a>\u001b[0m attackedPos \u001b[39m=\u001b[39m attackedPos[object_index\u001b[39m*\u001b[39m\u001b[39m100\u001b[39m: object_index\u001b[39m*\u001b[39m\u001b[39m100\u001b[39m \u001b[39m+\u001b[39m \u001b[39m100\u001b[39m]\n\u001b[1;32m      <a href='vscode-notebook-cell:/Users/tingxi/Github/BulletArm/bulletarm_baselines/fc_dqn/scripts/test.ipynb#W0sZmlsZQ%3D%3D?line=6'>7</a>\u001b[0m ori_reward \u001b[39m=\u001b[39m getRewardFromValues(file_path)\n",
      "\u001b[1;32m/Users/tingxi/Github/BulletArm/bulletarm_baselines/fc_dqn/scripts/test.ipynb Cell 2\u001b[0m line \u001b[0;36m1\n\u001b[1;32m     <a href='vscode-notebook-cell:/Users/tingxi/Github/BulletArm/bulletarm_baselines/fc_dqn/scripts/test.ipynb#W0sZmlsZQ%3D%3D?line=11'>12</a>\u001b[0m \u001b[39mdef\u001b[39;00m \u001b[39mgetAttackedPosFromValues\u001b[39m(file_path):\n\u001b[0;32m---> <a href='vscode-notebook-cell:/Users/tingxi/Github/BulletArm/bulletarm_baselines/fc_dqn/scripts/test.ipynb#W0sZmlsZQ%3D%3D?line=12'>13</a>\u001b[0m     values \u001b[39m=\u001b[39m read_numeric_values(file_path)\n\u001b[1;32m     <a href='vscode-notebook-cell:/Users/tingxi/Github/BulletArm/bulletarm_baselines/fc_dqn/scripts/test.ipynb#W0sZmlsZQ%3D%3D?line=13'>14</a>\u001b[0m     pos \u001b[39m=\u001b[39m []\n\u001b[1;32m     <a href='vscode-notebook-cell:/Users/tingxi/Github/BulletArm/bulletarm_baselines/fc_dqn/scripts/test.ipynb#W0sZmlsZQ%3D%3D?line=14'>15</a>\u001b[0m     \u001b[39mfor\u001b[39;00m v \u001b[39min\u001b[39;00m values:\n",
      "\u001b[1;32m/Users/tingxi/Github/BulletArm/bulletarm_baselines/fc_dqn/scripts/test.ipynb Cell 2\u001b[0m line \u001b[0;36m4\n\u001b[1;32m      <a href='vscode-notebook-cell:/Users/tingxi/Github/BulletArm/bulletarm_baselines/fc_dqn/scripts/test.ipynb#W0sZmlsZQ%3D%3D?line=0'>1</a>\u001b[0m \u001b[39mdef\u001b[39;00m \u001b[39mread_numeric_values\u001b[39m(file_path):\n\u001b[1;32m      <a href='vscode-notebook-cell:/Users/tingxi/Github/BulletArm/bulletarm_baselines/fc_dqn/scripts/test.ipynb#W0sZmlsZQ%3D%3D?line=1'>2</a>\u001b[0m     all_numeric_values \u001b[39m=\u001b[39m []\n\u001b[0;32m----> <a href='vscode-notebook-cell:/Users/tingxi/Github/BulletArm/bulletarm_baselines/fc_dqn/scripts/test.ipynb#W0sZmlsZQ%3D%3D?line=3'>4</a>\u001b[0m     \u001b[39mwith\u001b[39;00m \u001b[39mopen\u001b[39;49m(file_path, \u001b[39m'\u001b[39;49m\u001b[39mr\u001b[39;49m\u001b[39m'\u001b[39;49m) \u001b[39mas\u001b[39;00m file:\n\u001b[1;32m      <a href='vscode-notebook-cell:/Users/tingxi/Github/BulletArm/bulletarm_baselines/fc_dqn/scripts/test.ipynb#W0sZmlsZQ%3D%3D?line=4'>5</a>\u001b[0m         \u001b[39mfor\u001b[39;00m line \u001b[39min\u001b[39;00m file:\n\u001b[1;32m      <a href='vscode-notebook-cell:/Users/tingxi/Github/BulletArm/bulletarm_baselines/fc_dqn/scripts/test.ipynb#W0sZmlsZQ%3D%3D?line=5'>6</a>\u001b[0m             \u001b[39m# Use regex to extract numeric values from the line\u001b[39;00m\n\u001b[1;32m      <a href='vscode-notebook-cell:/Users/tingxi/Github/BulletArm/bulletarm_baselines/fc_dqn/scripts/test.ipynb#W0sZmlsZQ%3D%3D?line=6'>7</a>\u001b[0m             values \u001b[39m=\u001b[39m [\u001b[39mfloat\u001b[39m(match) \u001b[39mfor\u001b[39;00m match \u001b[39min\u001b[39;00m re\u001b[39m.\u001b[39mfindall(\u001b[39mr\u001b[39m\u001b[39m'\u001b[39m\u001b[39m[-+]?\u001b[39m\u001b[39m\\\u001b[39m\u001b[39md*\u001b[39m\u001b[39m\\\u001b[39m\u001b[39m.\u001b[39m\u001b[39m\\\u001b[39m\u001b[39md+(?:[eE][-+]?\u001b[39m\u001b[39m\\\u001b[39m\u001b[39md+)?|\u001b[39m\u001b[39m\\\u001b[39m\u001b[39md+\u001b[39m\u001b[39m'\u001b[39m, line)]\n",
      "File \u001b[0;32m~/opt/anaconda3/envs/bullet38/lib/python3.8/site-packages/IPython/core/interactiveshell.py:284\u001b[0m, in \u001b[0;36m_modified_open\u001b[0;34m(file, *args, **kwargs)\u001b[0m\n\u001b[1;32m    277\u001b[0m \u001b[39mif\u001b[39;00m file \u001b[39min\u001b[39;00m {\u001b[39m0\u001b[39m, \u001b[39m1\u001b[39m, \u001b[39m2\u001b[39m}:\n\u001b[1;32m    278\u001b[0m     \u001b[39mraise\u001b[39;00m \u001b[39mValueError\u001b[39;00m(\n\u001b[1;32m    279\u001b[0m         \u001b[39mf\u001b[39m\u001b[39m\"\u001b[39m\u001b[39mIPython won\u001b[39m\u001b[39m'\u001b[39m\u001b[39mt let you open fd=\u001b[39m\u001b[39m{\u001b[39;00mfile\u001b[39m}\u001b[39;00m\u001b[39m by default \u001b[39m\u001b[39m\"\u001b[39m\n\u001b[1;32m    280\u001b[0m         \u001b[39m\"\u001b[39m\u001b[39mas it is likely to crash IPython. If you know what you are doing, \u001b[39m\u001b[39m\"\u001b[39m\n\u001b[1;32m    281\u001b[0m         \u001b[39m\"\u001b[39m\u001b[39myou can use builtins\u001b[39m\u001b[39m'\u001b[39m\u001b[39m open.\u001b[39m\u001b[39m\"\u001b[39m\n\u001b[1;32m    282\u001b[0m     )\n\u001b[0;32m--> 284\u001b[0m \u001b[39mreturn\u001b[39;00m io_open(file, \u001b[39m*\u001b[39;49margs, \u001b[39m*\u001b[39;49m\u001b[39m*\u001b[39;49mkwargs)\n",
      "\u001b[0;31mFileNotFoundError\u001b[0m: [Errno 2] No such file or directory: './object_original_position.txt'"
     ]
    }
   ],
   "source": [
    "file_path = \"./object_original_position.txt\"\n",
    "object_index = 0\n",
    "\n",
    "attackedPos = getAttackedPosFromValues(file_path)\n",
    "attackedPos = attackedPos[object_index*100: object_index*100 + 100]\n",
    "\n",
    "ori_reward = getRewardFromValues(file_path)\n",
    "ori_reward = ori_reward[object_index*100: object_index*100 + 100]\n"
   ]
  },
  {
   "cell_type": "code",
   "execution_count": null,
   "metadata": {},
   "outputs": [],
   "source": []
  }
 ],
 "metadata": {
  "kernelspec": {
   "display_name": "bullet38",
   "language": "python",
   "name": "python3"
  },
  "language_info": {
   "codemirror_mode": {
    "name": "ipython",
    "version": 3
   },
   "file_extension": ".py",
   "mimetype": "text/x-python",
   "name": "python",
   "nbconvert_exporter": "python",
   "pygments_lexer": "ipython3",
   "version": "3.8.0"
  }
 },
 "nbformat": 4,
 "nbformat_minor": 2
}
