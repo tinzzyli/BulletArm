{
 "cells": [
  {
   "cell_type": "code",
   "execution_count": 70,
   "metadata": {},
   "outputs": [
    {
     "data": {
      "text/plain": [
       "tensor([[[[0.1686, 0.1788, 0.1710,  ..., 0.1565, 0.1597, 0.1490],\n",
       "          [0.1740, 0.1769, 0.1510,  ..., 0.1385, 0.1550, 0.1596],\n",
       "          [0.1654, 0.1486, 0.1174,  ..., 0.1165, 0.1385, 0.1562],\n",
       "          ...,\n",
       "          [0.1588, 0.1477, 0.1199,  ..., 0.1154, 0.1394, 0.1574],\n",
       "          [0.1637, 0.1667, 0.1476,  ..., 0.1390, 0.1572, 0.1614],\n",
       "          [0.1487, 0.1638, 0.1587,  ..., 0.1575, 0.1616, 0.1512]]]],\n",
       "       dtype=torch.float64)"
      ]
     },
     "execution_count": 70,
     "metadata": {},
     "output_type": "execute_result"
    }
   ],
   "source": [
    "import numpy as np\n",
    "import torch\n",
    "file_path = '/Users/tingxi/Downloads/sample_file/q_map_4.txt'\n",
    "matrix = np.loadtxt(file_path)\n",
    "matrix = matrix.reshape(1,1,128,128)\n",
    "matrix = torch.tensor(matrix)\n",
    "matrix"
   ]
  },
  {
   "cell_type": "code",
   "execution_count": 71,
   "metadata": {},
   "outputs": [
    {
     "data": {
      "text/plain": [
       "tensor([36.3672, 47.0000])"
      ]
     },
     "execution_count": 71,
     "metadata": {},
     "output_type": "execute_result"
    }
   ],
   "source": [
    "def argmax2d(tensor):\n",
    "  n = tensor.size(0)\n",
    "  d = tensor.size(2)\n",
    "  m = tensor.view(n, -1).argmax(1)\n",
    "  return torch.cat(((m / d).view(-1, 1), (m % d).view(-1, 1)), dim=1)\n",
    "\n",
    "argmax2d(matrix)[0]"
   ]
  },
  {
   "cell_type": "code",
   "execution_count": 72,
   "metadata": {},
   "outputs": [
    {
     "name": "stdout",
     "output_type": "stream",
     "text": [
      "tensor([36, 47]) tensor(0.7067, dtype=torch.float64)\n",
      "tensor([35, 47]) tensor(0.6928, dtype=torch.float64)\n",
      "tensor([115,  37]) tensor(0.6083, dtype=torch.float64)\n",
      "tensor([115,  36]) tensor(0.6006, dtype=torch.float64)\n",
      "tensor([36, 48]) tensor(0.5796, dtype=torch.float64)\n",
      "tensor([35, 48]) tensor(0.5712, dtype=torch.float64)\n",
      "tensor([36, 46]) tensor(0.5684, dtype=torch.float64)\n",
      "tensor([114,  37]) tensor(0.5539, dtype=torch.float64)\n",
      "tensor([114,  36]) tensor(0.5516, dtype=torch.float64)\n",
      "tensor([35, 46]) tensor(0.5415, dtype=torch.float64)\n",
      "tensor([37, 47]) tensor(0.4752, dtype=torch.float64)\n",
      "tensor([116,  37]) tensor(0.4651, dtype=torch.float64)\n",
      "tensor([74, 32]) tensor(0.4442, dtype=torch.float64)\n",
      "tensor([116,  36]) tensor(0.4413, dtype=torch.float64)\n",
      "tensor([34, 47]) tensor(0.4216, dtype=torch.float64)\n",
      "tensor([73, 32]) tensor(0.4164, dtype=torch.float64)\n",
      "tensor([115,  38]) tensor(0.3996, dtype=torch.float64)\n",
      "tensor([74, 33]) tensor(0.3944, dtype=torch.float64)\n",
      "tensor([115,  35]) tensor(0.3937, dtype=torch.float64)\n",
      "tensor([37, 46]) tensor(0.3823, dtype=torch.float64)\n",
      "tensor([73, 33]) tensor(0.3810, dtype=torch.float64)\n",
      "tensor([114,  38]) tensor(0.3781, dtype=torch.float64)\n",
      "tensor([113,  36]) tensor(0.3664, dtype=torch.float64)\n",
      "tensor([114,  35]) tensor(0.3458, dtype=torch.float64)\n",
      "tensor([37, 48]) tensor(0.3413, dtype=torch.float64)\n",
      "tensor([34, 48]) tensor(0.3383, dtype=torch.float64)\n",
      "tensor([35, 30]) tensor(0.3297, dtype=torch.float64)\n",
      "tensor([34, 28]) tensor(0.3297, dtype=torch.float64)\n",
      "tensor([36, 30]) tensor(0.3266, dtype=torch.float64)\n",
      "tensor([29, 20]) tensor(0.3245, dtype=torch.float64)\n",
      "tensor([113,  37]) tensor(0.3202, dtype=torch.float64)\n",
      "tensor([34, 46]) tensor(0.3190, dtype=torch.float64)\n",
      "tensor([35, 28]) tensor(0.3137, dtype=torch.float64)\n",
      "tensor([121,  35]) tensor(0.3130, dtype=torch.float64)\n",
      "tensor([41, 50]) tensor(0.3126, dtype=torch.float64)\n",
      "tensor([113,  30]) tensor(0.3118, dtype=torch.float64)\n",
      "tensor([74, 31]) tensor(0.3117, dtype=torch.float64)\n",
      "tensor([30, 20]) tensor(0.3091, dtype=torch.float64)\n",
      "tensor([33, 53]) tensor(0.3089, dtype=torch.float64)\n",
      "tensor([30, 51]) tensor(0.3086, dtype=torch.float64)\n",
      "tensor([29, 19]) tensor(0.3074, dtype=torch.float64)\n",
      "tensor([35, 27]) tensor(0.3072, dtype=torch.float64)\n",
      "tensor([73, 31]) tensor(0.3033, dtype=torch.float64)\n",
      "tensor([30, 44]) tensor(0.3017, dtype=torch.float64)\n",
      "tensor([30, 19]) tensor(0.3017, dtype=torch.float64)\n",
      "tensor([27, 22]) tensor(0.3012, dtype=torch.float64)\n",
      "tensor([42, 48]) tensor(0.3002, dtype=torch.float64)\n",
      "tensor([41, 26]) tensor(0.2996, dtype=torch.float64)\n",
      "tensor([116,  43]) tensor(0.2990, dtype=torch.float64)\n",
      "tensor([109,  39]) tensor(0.2987, dtype=torch.float64)\n",
      "tensor([43, 46]) tensor(0.2985, dtype=torch.float64)\n",
      "tensor([108,  38]) tensor(0.2972, dtype=torch.float64)\n",
      "tensor([41, 49]) tensor(0.2964, dtype=torch.float64)\n",
      "tensor([42, 49]) tensor(0.2952, dtype=torch.float64)\n",
      "tensor([34, 53]) tensor(0.2941, dtype=torch.float64)\n",
      "tensor([120,  34]) tensor(0.2941, dtype=torch.float64)\n",
      "tensor([26, 25]) tensor(0.2937, dtype=torch.float64)\n",
      "tensor([35, 31]) tensor(0.2933, dtype=torch.float64)\n",
      "tensor([35, 54]) tensor(0.2930, dtype=torch.float64)\n",
      "tensor([112,  31]) tensor(0.2923, dtype=torch.float64)\n",
      "tensor([28, 47]) tensor(0.2922, dtype=torch.float64)\n",
      "tensor([28, 48]) tensor(0.2917, dtype=torch.float64)\n",
      "tensor([32, 52]) tensor(0.2916, dtype=torch.float64)\n",
      "tensor([79, 29]) tensor(0.2916, dtype=torch.float64)\n",
      "tensor([68, 35]) tensor(0.2915, dtype=torch.float64)\n",
      "tensor([43, 47]) tensor(0.2915, dtype=torch.float64)\n",
      "tensor([120,  33]) tensor(0.2913, dtype=torch.float64)\n",
      "tensor([107,  36]) tensor(0.2894, dtype=torch.float64)\n",
      "tensor([31, 52]) tensor(0.2893, dtype=torch.float64)\n",
      "tensor([121,  34]) tensor(0.2890, dtype=torch.float64)\n",
      "tensor([43, 45]) tensor(0.2882, dtype=torch.float64)\n",
      "tensor([29, 45]) tensor(0.2867, dtype=torch.float64)\n",
      "tensor([114,  30]) tensor(0.2867, dtype=torch.float64)\n",
      "tensor([38, 41]) tensor(0.2867, dtype=torch.float64)\n",
      "tensor([107,  35]) tensor(0.2852, dtype=torch.float64)\n",
      "tensor([34, 27]) tensor(0.2850, dtype=torch.float64)\n",
      "tensor([36, 40]) tensor(0.2846, dtype=torch.float64)\n",
      "tensor([75, 32]) tensor(0.2839, dtype=torch.float64)\n",
      "tensor([35, 29]) tensor(0.2838, dtype=torch.float64)\n",
      "tensor([67, 33]) tensor(0.2837, dtype=torch.float64)\n",
      "tensor([75, 33]) tensor(0.2832, dtype=torch.float64)\n",
      "tensor([34, 54]) tensor(0.2818, dtype=torch.float64)\n",
      "tensor([110,  41]) tensor(0.2814, dtype=torch.float64)\n",
      "tensor([36, 45]) tensor(0.2809, dtype=torch.float64)\n",
      "tensor([109,  40]) tensor(0.2802, dtype=torch.float64)\n",
      "tensor([30, 21]) tensor(0.2796, dtype=torch.float64)\n",
      "tensor([28, 49]) tensor(0.2795, dtype=torch.float64)\n",
      "tensor([68, 36]) tensor(0.2793, dtype=torch.float64)\n",
      "tensor([25, 24]) tensor(0.2792, dtype=torch.float64)\n",
      "tensor([80, 30]) tensor(0.2790, dtype=torch.float64)\n",
      "tensor([115,  29]) tensor(0.2788, dtype=torch.float64)\n",
      "tensor([79, 30]) tensor(0.2784, dtype=torch.float64)\n",
      "tensor([108,  36]) tensor(0.2779, dtype=torch.float64)\n",
      "tensor([30, 45]) tensor(0.2774, dtype=torch.float64)\n",
      "tensor([115,  43]) tensor(0.2766, dtype=torch.float64)\n",
      "tensor([39, 42]) tensor(0.2762, dtype=torch.float64)\n",
      "tensor([116,  35]) tensor(0.2761, dtype=torch.float64)\n",
      "tensor([29, 46]) tensor(0.2761, dtype=torch.float64)\n",
      "tensor([36, 29]) tensor(0.2755, dtype=torch.float64)\n",
      "tensor([40, 42]) tensor(0.2753, dtype=torch.float64)\n"
     ]
    }
   ],
   "source": [
    "copy_matrix = matrix.clone()\n",
    "for i in range(100):\n",
    "    max_index = argmax2d(copy_matrix)[0].long()\n",
    "    print(max_index, copy_matrix[0][0][max_index[0]][max_index[1]])\n",
    "    copy_matrix[0][0][max_index[0]][max_index[1]] = 0"
   ]
  },
  {
   "cell_type": "code",
   "execution_count": null,
   "metadata": {},
   "outputs": [],
   "source": []
  }
 ],
 "metadata": {
  "kernelspec": {
   "display_name": "bullet37",
   "language": "python",
   "name": "python3"
  },
  "language_info": {
   "codemirror_mode": {
    "name": "ipython",
    "version": 3
   },
   "file_extension": ".py",
   "mimetype": "text/x-python",
   "name": "python",
   "nbconvert_exporter": "python",
   "pygments_lexer": "ipython3",
   "version": "3.7.15"
  },
  "orig_nbformat": 4
 },
 "nbformat": 4,
 "nbformat_minor": 2
}
