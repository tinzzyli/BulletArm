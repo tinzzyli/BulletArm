{
 "cells": [
  {
   "cell_type": "code",
   "execution_count": 4,
   "metadata": {},
   "outputs": [
    {
     "data": {
      "text/plain": [
       "tensor([[[[0.1432, 0.1585, 0.1564,  ..., 0.1804, 0.1989, 0.1776],\n",
       "          [0.1565, 0.1589, 0.1434,  ..., 0.1721, 0.2131, 0.1897],\n",
       "          [0.1538, 0.1448, 0.1235,  ..., 0.1301, 0.1768, 0.1753],\n",
       "          ...,\n",
       "          [0.1529, 0.1469, 0.1261,  ..., 0.1240, 0.1705, 0.1755],\n",
       "          [0.1549, 0.1598, 0.1464,  ..., 0.1659, 0.2052, 0.1891],\n",
       "          [0.1387, 0.1549, 0.1519,  ..., 0.1783, 0.1953, 0.1791]]]],\n",
       "       dtype=torch.float64)"
      ]
     },
     "execution_count": 4,
     "metadata": {},
     "output_type": "execute_result"
    }
   ],
   "source": [
    "import numpy as np\n",
    "import torch\n",
    "file_path = '../sample_file/q_map_0.txt'\n",
    "matrix = np.loadtxt(file_path)\n",
    "matrix = matrix.reshape(1,1,128,128)\n",
    "matrix = torch.tensor(matrix)\n",
    "matrix"
   ]
  },
  {
   "cell_type": "code",
   "execution_count": 5,
   "metadata": {},
   "outputs": [
    {
     "data": {
      "text/plain": [
       "tensor([92.2344, 30.0000])"
      ]
     },
     "execution_count": 5,
     "metadata": {},
     "output_type": "execute_result"
    }
   ],
   "source": [
    "def argmax2d(tensor):\n",
    "  n = tensor.size(0)\n",
    "  d = tensor.size(2)\n",
    "  m = tensor.view(n, -1).argmax(1)\n",
    "  return torch.cat(((m / d).view(-1, 1), (m % d).view(-1, 1)), dim=1)\n",
    "\n",
    "argmax2d(matrix)[0]"
   ]
  },
  {
   "cell_type": "code",
   "execution_count": 6,
   "metadata": {},
   "outputs": [
    {
     "name": "stdout",
     "output_type": "stream",
     "text": [
      "tensor([92, 30]) tensor(0.6451, dtype=torch.float64)\n",
      "tensor([93, 30]) tensor(0.6440, dtype=torch.float64)\n",
      "tensor([11, 47]) tensor(0.5943, dtype=torch.float64)\n",
      "tensor([93, 29]) tensor(0.5837, dtype=torch.float64)\n",
      "tensor([92, 29]) tensor(0.5667, dtype=torch.float64)\n",
      "tensor([12, 47]) tensor(0.5510, dtype=torch.float64)\n",
      "tensor([11, 46]) tensor(0.5466, dtype=torch.float64)\n",
      "tensor([92, 31]) tensor(0.5288, dtype=torch.float64)\n",
      "tensor([ 64, 105]) tensor(0.5196, dtype=torch.float64)\n",
      "tensor([10, 47]) tensor(0.5107, dtype=torch.float64)\n",
      "tensor([12, 46]) tensor(0.4917, dtype=torch.float64)\n",
      "tensor([ 64, 104]) tensor(0.4716, dtype=torch.float64)\n",
      "tensor([93, 31]) tensor(0.4584, dtype=torch.float64)\n",
      "tensor([10, 46]) tensor(0.4569, dtype=torch.float64)\n",
      "tensor([ 63, 105]) tensor(0.4378, dtype=torch.float64)\n",
      "tensor([ 63, 104]) tensor(0.4194, dtype=torch.float64)\n",
      "tensor([11, 48]) tensor(0.4193, dtype=torch.float64)\n",
      "tensor([103,  88]) tensor(0.4190, dtype=torch.float64)\n",
      "tensor([91, 30]) tensor(0.4154, dtype=torch.float64)\n",
      "tensor([60, 95]) tensor(0.4123, dtype=torch.float64)\n",
      "tensor([103,  87]) tensor(0.4019, dtype=torch.float64)\n",
      "tensor([94, 30]) tensor(0.3986, dtype=torch.float64)\n",
      "tensor([102,  88]) tensor(0.3961, dtype=torch.float64)\n",
      "tensor([59, 95]) tensor(0.3933, dtype=torch.float64)\n",
      "tensor([ 64, 106]) tensor(0.3927, dtype=torch.float64)\n",
      "tensor([102,  87]) tensor(0.3761, dtype=torch.float64)\n",
      "tensor([91, 29]) tensor(0.3691, dtype=torch.float64)\n",
      "tensor([91, 31]) tensor(0.3652, dtype=torch.float64)\n",
      "tensor([60, 96]) tensor(0.3651, dtype=torch.float64)\n",
      "tensor([12, 48]) tensor(0.3637, dtype=torch.float64)\n",
      "tensor([ 63, 106]) tensor(0.3629, dtype=torch.float64)\n",
      "tensor([94, 29]) tensor(0.3573, dtype=torch.float64)\n",
      "tensor([ 65, 105]) tensor(0.3459, dtype=torch.float64)\n",
      "tensor([59, 96]) tensor(0.3329, dtype=torch.float64)\n",
      "tensor([87, 32]) tensor(0.3275, dtype=torch.float64)\n",
      "tensor([86, 31]) tensor(0.3256, dtype=torch.float64)\n",
      "tensor([ 63, 103]) tensor(0.3243, dtype=torch.float64)\n",
      "tensor([17, 49]) tensor(0.3207, dtype=torch.float64)\n",
      "tensor([10, 48]) tensor(0.3198, dtype=torch.float64)\n",
      "tensor([92, 23]) tensor(0.3185, dtype=torch.float64)\n",
      "tensor([17, 48]) tensor(0.3182, dtype=torch.float64)\n",
      "tensor([11, 45]) tensor(0.3157, dtype=torch.float64)\n",
      "tensor([ 65, 104]) tensor(0.3146, dtype=torch.float64)\n",
      "tensor([95, 35]) tensor(0.3133, dtype=torch.float64)\n",
      "tensor([18, 47]) tensor(0.3125, dtype=torch.float64)\n",
      "tensor([ 67, 115]) tensor(0.3122, dtype=torch.float64)\n",
      "tensor([98, 27]) tensor(0.3122, dtype=torch.float64)\n",
      "tensor([87, 33]) tensor(0.3116, dtype=torch.float64)\n",
      "tensor([94, 36]) tensor(0.3095, dtype=torch.float64)\n",
      "tensor([59, 90]) tensor(0.3083, dtype=torch.float64)\n",
      "tensor([90, 24]) tensor(0.3077, dtype=torch.float64)\n",
      "tensor([60, 94]) tensor(0.3047, dtype=torch.float64)\n",
      "tensor([13, 47]) tensor(0.3035, dtype=torch.float64)\n",
      "tensor([86, 32]) tensor(0.3028, dtype=torch.float64)\n",
      "tensor([96, 35]) tensor(0.3024, dtype=torch.float64)\n",
      "tensor([92, 28]) tensor(0.3018, dtype=torch.float64)\n",
      "tensor([93, 28]) tensor(0.3014, dtype=torch.float64)\n",
      "tensor([91, 24]) tensor(0.3013, dtype=torch.float64)\n",
      "tensor([ 73, 114]) tensor(0.3000, dtype=torch.float64)\n",
      "tensor([99, 29]) tensor(0.2997, dtype=torch.float64)\n",
      "tensor([98, 28]) tensor(0.2990, dtype=torch.float64)\n",
      "tensor([94, 31]) tensor(0.2987, dtype=torch.float64)\n",
      "tensor([58, 90]) tensor(0.2981, dtype=torch.float64)\n",
      "tensor([10, 53]) tensor(0.2977, dtype=torch.float64)\n",
      "tensor([61, 95]) tensor(0.2972, dtype=torch.float64)\n",
      "tensor([86, 30]) tensor(0.2967, dtype=torch.float64)\n",
      "tensor([54, 97]) tensor(0.2961, dtype=torch.float64)\n",
      "tensor([59, 93]) tensor(0.2957, dtype=torch.float64)\n",
      "tensor([18, 48]) tensor(0.2947, dtype=torch.float64)\n",
      "tensor([59, 94]) tensor(0.2943, dtype=torch.float64)\n",
      "tensor([91, 23]) tensor(0.2934, dtype=torch.float64)\n",
      "tensor([16, 50]) tensor(0.2934, dtype=torch.float64)\n",
      "tensor([18, 46]) tensor(0.2930, dtype=torch.float64)\n",
      "tensor([95, 36]) tensor(0.2900, dtype=torch.float64)\n",
      "tensor([92, 37]) tensor(0.2892, dtype=torch.float64)\n",
      "tensor([104,  87]) tensor(0.2883, dtype=torch.float64)\n",
      "tensor([85, 29]) tensor(0.2882, dtype=torch.float64)\n",
      "tensor([ 8, 52]) tensor(0.2880, dtype=torch.float64)\n",
      "tensor([87, 31]) tensor(0.2879, dtype=torch.float64)\n",
      "tensor([54, 96]) tensor(0.2877, dtype=torch.float64)\n",
      "tensor([ 66, 121]) tensor(0.2873, dtype=torch.float64)\n",
      "tensor([91, 37]) tensor(0.2867, dtype=torch.float64)\n",
      "tensor([ 67, 121]) tensor(0.2858, dtype=torch.float64)\n",
      "tensor([ 64, 103]) tensor(0.2849, dtype=torch.float64)\n",
      "tensor([ 9, 52]) tensor(0.2846, dtype=torch.float64)\n",
      "tensor([94, 22]) tensor(0.2843, dtype=torch.float64)\n",
      "tensor([99, 28]) tensor(0.2838, dtype=torch.float64)\n",
      "tensor([61, 96]) tensor(0.2837, dtype=torch.float64)\n",
      "tensor([105,  93]) tensor(0.2833, dtype=torch.float64)\n",
      "tensor([ 62, 104]) tensor(0.2831, dtype=torch.float64)\n",
      "tensor([16, 49]) tensor(0.2829, dtype=torch.float64)\n",
      "tensor([ 73, 115]) tensor(0.2826, dtype=torch.float64)\n",
      "tensor([98, 26]) tensor(0.2819, dtype=torch.float64)\n",
      "tensor([58, 91]) tensor(0.2819, dtype=torch.float64)\n",
      "tensor([ 62, 105]) tensor(0.2816, dtype=torch.float64)\n",
      "tensor([53, 95]) tensor(0.2811, dtype=torch.float64)\n",
      "tensor([104,  88]) tensor(0.2807, dtype=torch.float64)\n",
      "tensor([93, 22]) tensor(0.2804, dtype=torch.float64)\n",
      "tensor([60, 90]) tensor(0.2799, dtype=torch.float64)\n",
      "tensor([93, 36]) tensor(0.2793, dtype=torch.float64)\n"
     ]
    }
   ],
   "source": [
    "copy_matrix = matrix.clone()\n",
    "for i in range(100):\n",
    "    max_index = argmax2d(copy_matrix)[0].long()\n",
    "    print(max_index, copy_matrix[0][0][max_index[0]][max_index[1]])\n",
    "    copy_matrix[0][0][max_index[0]][max_index[1]] = 0"
   ]
  },
  {
   "cell_type": "code",
   "execution_count": 46,
   "metadata": {},
   "outputs": [
    {
     "name": "stdout",
     "output_type": "stream",
     "text": [
      "最大值坐标: tensor([72, 64])\n",
      "次最大值坐标: (tensor(66), tensor(66))\n"
     ]
    }
   ],
   "source": [
    "import numpy as np\n",
    "def argmax2d(tensor):\n",
    "    n = tensor.size(0)\n",
    "    d = tensor.size(2)\n",
    "    m = tensor.view(n, -1).argmax(1)\n",
    "    return torch.cat(((m / d).view(-1, 1), (m % d).view(-1, 1)), dim=1)\n",
    "\n",
    "def set_center_region(submatrix, n, value):\n",
    "    # 获取中心区域的边界\n",
    "    min_row = submatrix.shape[0] // 2 - n // 2\n",
    "    max_row = min_row + n\n",
    "    min_col = submatrix.shape[1] // 2 - n // 2\n",
    "    max_col = min_col + n\n",
    "\n",
    "    # 将中心区域的值设置为指定值\n",
    "    submatrix[min_row:max_row, min_col:max_col] = value\n",
    "    return submatrix\n",
    "\n",
    "\n",
    "def find_second_max(matrix, center, neighborhood_size=20, min_distance=10):\n",
    "\n",
    "    a, b = center\n",
    "\n",
    "    # 定义邻域的边界\n",
    "    min_row = max(0, a - neighborhood_size // 2)\n",
    "    max_row = min(matrix.shape[0], a + neighborhood_size // 2 + 1)\n",
    "    min_col = max(0, b - neighborhood_size // 2)\n",
    "    max_col = min(matrix.shape[1], b + neighborhood_size // 2 + 1)\n",
    "\n",
    "    # 在邻域内找到次最大值的坐标\n",
    "    submatrix = matrix[min_row:max_row, min_col:max_col]\n",
    "    submatrix = set_center_region(submatrix, min_distance, 0)\n",
    "    flattened_indices = np.argsort(submatrix, axis=None)  # 将邻域展平后的索引\n",
    "    second_max_index = np.unravel_index(flattened_indices[-2], submatrix.shape)\n",
    "\n",
    "    # 转换为全局坐标\n",
    "    second_max_coord = (a - neighborhood_size // 2 + second_max_index[0],\n",
    "                        b - neighborhood_size // 2 + second_max_index[1])\n",
    "\n",
    "    return second_max_coord\n",
    "\n",
    "file_path = '../sample_file/q_map_1.txt'\n",
    "matrix = np.loadtxt(file_path)\n",
    "matrix = torch.tensor(matrix)\n",
    "\n",
    "# 找到最大值的坐标\n",
    "max_coords = argmax2d(matrix.reshape(1,1,128,128)).long()[0]\n",
    "\n",
    "# 找到次最大值的坐标\n",
    "second_max_coords = find_second_max(matrix, max_coords)\n",
    "\n",
    "print(\"最大值坐标:\", max_coords)\n",
    "print(\"次最大值坐标:\", second_max_coords)\n"
   ]
  },
  {
   "cell_type": "code",
   "execution_count": null,
   "metadata": {},
   "outputs": [],
   "source": []
  }
 ],
 "metadata": {
  "kernelspec": {
   "display_name": "bullet37",
   "language": "python",
   "name": "python3"
  },
  "language_info": {
   "codemirror_mode": {
    "name": "ipython",
    "version": 3
   },
   "file_extension": ".py",
   "mimetype": "text/x-python",
   "name": "python",
   "nbconvert_exporter": "python",
   "pygments_lexer": "ipython3",
   "version": "3.7.15"
  },
  "orig_nbformat": 4
 },
 "nbformat": 4,
 "nbformat_minor": 2
}
