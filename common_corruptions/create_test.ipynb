{
 "cells": [
  {
   "cell_type": "code",
   "execution_count": 43,
   "metadata": {},
   "outputs": [],
   "source": [
    "import corruptions\n",
    "import numpy\n",
    "import torch\n",
    "import corruption_constants\n",
    "import numpy as np"
   ]
  },
  {
   "cell_type": "code",
   "execution_count": 44,
   "metadata": {},
   "outputs": [],
   "source": [
    "c=(\"gaussian_noise\",\"shot_noise\",\"impulse_noise\",\"motion_blur\",\"zoom_blur\",\"fog\",\"brightness\",\"contrast\",\"jpeg_compression\")"
   ]
  },
  {
   "cell_type": "code",
   "execution_count": 50,
   "metadata": {},
   "outputs": [],
   "source": [
    "corrupt_func = c[0]\n",
    "severity = 5\n",
    "# print(torch.min(obs), torch.max(obs), torch.mean(obs), torch.sum(obs), torch.std(obs))\n",
    "# tensor(0.) tensor(0.0299) tensor(0.0007) tensor(56.0894) tensor(0.0045)"
   ]
  },
  {
   "cell_type": "code",
   "execution_count": 691,
   "metadata": {},
   "outputs": [
    {
     "name": "stdout",
     "output_type": "stream",
     "text": [
      "tensor(6, dtype=torch.int32) tensor(6, dtype=torch.int32)\n",
      "tensor([36,  7, 39, 24, 48, 23]) tensor([25, 23, 22, 43,  1, 27])\n",
      "tensor([0.9774, 0.6819, 0.7020, 0.0732, 0.3343, 0.2847, 0.4472, 0.2383, 0.3588,\n",
      "        0.8818, 0.9452, 0.5245, 0.8466, 0.0476, 0.8830, 0.4512, 0.4478, 0.1876,\n",
      "        0.4874, 0.4621, 0.7024, 0.6642, 0.6521, 0.5597, 0.9226, 0.9975, 0.4491,\n",
      "        0.9097, 0.2083, 0.1345, 0.0599, 0.9517, 0.2372, 0.1025, 0.0898, 0.6072,\n",
      "        0.5609, 0.3400, 0.9464, 0.1130, 0.4365, 0.9986, 0.9200, 0.1846, 0.0863,\n",
      "        0.6363, 0.2915, 0.9471, 0.1285, 0.0561])\n",
      "tensor([0.9774, 0.9986, 0.7020, 0.0732, 0.3343, 0.2847, 0.4472, 0.0476, 0.3588,\n",
      "        0.8818, 0.9452, 0.5245, 0.8466, 0.0476, 0.8830, 0.4512, 0.4478, 0.1876,\n",
      "        0.4874, 0.4621, 0.7024, 0.6642, 0.9986, 0.9986, 0.0476, 0.9986, 0.4491,\n",
      "        0.9986, 0.2083, 0.1345, 0.0599, 0.9517, 0.2372, 0.1025, 0.0898, 0.6072,\n",
      "        0.0476, 0.3400, 0.9464, 0.0476, 0.4365, 0.9986, 0.9200, 0.9986, 0.0863,\n",
      "        0.6363, 0.2915, 0.9471, 0.0476, 0.0561])\n"
     ]
    },
    {
     "data": {
      "text/plain": [
       "(tensor([[[[0.9774, 0.9986, 0.7020, 0.0732, 0.3343],\n",
       "           [0.2847, 0.4472, 0.0476, 0.3588, 0.8818],\n",
       "           [0.9452, 0.5245, 0.8466, 0.0476, 0.8830],\n",
       "           [0.4512, 0.4478, 0.1876, 0.4874, 0.4621],\n",
       "           [0.7024, 0.6642, 0.9986, 0.9986, 0.0476]]],\n",
       " \n",
       " \n",
       "         [[[0.9986, 0.4491, 0.9986, 0.2083, 0.1345],\n",
       "           [0.0599, 0.9517, 0.2372, 0.1025, 0.0898],\n",
       "           [0.6072, 0.0476, 0.3400, 0.9464, 0.0476],\n",
       "           [0.4365, 0.9986, 0.9200, 0.9986, 0.0863],\n",
       "           [0.6363, 0.2915, 0.9471, 0.0476, 0.0561]]]]),\n",
       " tensor([[[[0.9774, 0.9986, 0.7020, 0.0732, 0.3343],\n",
       "           [0.2847, 0.4472, 0.0476, 0.3588, 0.8818],\n",
       "           [0.9452, 0.5245, 0.8466, 0.0476, 0.8830],\n",
       "           [0.4512, 0.4478, 0.1876, 0.4874, 0.4621],\n",
       "           [0.7024, 0.6642, 0.9986, 0.9986, 0.0476]]],\n",
       " \n",
       " \n",
       "         [[[0.9986, 0.4491, 0.9986, 0.2083, 0.1345],\n",
       "           [0.0599, 0.9517, 0.2372, 0.1025, 0.0898],\n",
       "           [0.6072, 0.0476, 0.3400, 0.9464, 0.0476],\n",
       "           [0.4365, 0.9986, 0.9200, 0.9986, 0.0863],\n",
       "           [0.6363, 0.2915, 0.9471, 0.0476, 0.0561]]]]),\n",
       " tensor(0.9986))"
      ]
     },
     "execution_count": 691,
     "metadata": {},
     "output_type": "execute_result"
    }
   ],
   "source": [
    "def salt_pepper_noise(x, severity):\n",
    "    total_pixel = x.numel()\n",
    "    s = torch.tensor([0.025, 0.05, 0.075, 0.1, 0.125])[severity-1]\n",
    "    salt_num = (total_pixel * s).int()\n",
    "    pepper_num = (total_pixel * s).int()\n",
    "    print(salt_num, pepper_num)\n",
    "    salt_coords = torch.randint(0,total_pixel,(salt_num,))\n",
    "    pepper_coords = torch.randint(0,total_pixel,(pepper_num,))\n",
    "    print(salt_coords, pepper_coords)\n",
    "    flat_x = x.reshape(total_pixel)\n",
    "    print(flat_x)\n",
    "    flat_x[salt_coords] = torch.min(x)\n",
    "    flat_x[pepper_coords] = torch.max(x)\n",
    "    print(flat_x)\n",
    "    x = flat_x.reshape(x.shape)\n",
    "    return x\n",
    "\n",
    "rnd = torch.rand(2,1,5,5)\n",
    "salt_pepper_noise(rnd.clone(),5),rnd,torch.max(rnd)"
   ]
  },
  {
   "cell_type": "code",
   "execution_count": null,
   "metadata": {},
   "outputs": [],
   "source": []
  }
 ],
 "metadata": {
  "kernelspec": {
   "display_name": "bullet37",
   "language": "python",
   "name": "bullet37"
  },
  "language_info": {
   "codemirror_mode": {
    "name": "ipython",
    "version": 3
   },
   "file_extension": ".py",
   "mimetype": "text/x-python",
   "name": "python",
   "nbconvert_exporter": "python",
   "pygments_lexer": "ipython3",
   "version": "3.7.15"
  },
  "orig_nbformat": 4
 },
 "nbformat": 4,
 "nbformat_minor": 2
}
