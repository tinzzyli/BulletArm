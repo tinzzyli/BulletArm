{
 "cells": [
  {
   "cell_type": "code",
   "execution_count": 43,
   "metadata": {},
   "outputs": [],
   "source": [
    "import corruptions\n",
    "import numpy\n",
    "import torch\n",
    "import corruption_constants\n",
    "import numpy as np"
   ]
  },
  {
   "cell_type": "code",
   "execution_count": 44,
   "metadata": {},
   "outputs": [],
   "source": [
    "c=(\"gaussian_noise\",\"shot_noise\",\"impulse_noise\",\"motion_blur\",\"zoom_blur\",\"fog\",\"brightness\",\"contrast\",\"jpeg_compression\")"
   ]
  },
  {
   "cell_type": "code",
   "execution_count": 50,
   "metadata": {},
   "outputs": [],
   "source": [
    "corrupt_func = c[0]\n",
    "severity = 5\n",
    "# print(torch.min(obs), torch.max(obs), torch.mean(obs), torch.sum(obs), torch.std(obs))\n",
    "# tensor(0.) tensor(0.0299) tensor(0.0007) tensor(56.0894) tensor(0.0045)"
   ]
  },
  {
   "cell_type": "code",
   "execution_count": 51,
   "metadata": {},
   "outputs": [],
   "source": [
    "def getCorruptionFunc():\n",
    "    if corrupt_func in corruption_constants.CONSTANTS:\n",
    "        return corruption_constants.CONSTANTS[corrupt_func]\n",
    "    else:\n",
    "        raise ValueError('Invalid corruption type.')"
   ]
  },
  {
   "cell_type": "code",
   "execution_count": 69,
   "metadata": {},
   "outputs": [],
   "source": [
    "def applyCorruption(obs):\n",
    "    Func = getCorruptionFunc()\n",
    "    S = severity\n",
    "    _obs = obs.numpy()\n",
    "\n",
    "    min = np.min(_obs)\n",
    "    max = np.max(_obs)\n",
    "    _obs = np.interp(_obs, (min, max), (0, 255)).astype(np.uint8)\n",
    "\n",
    "\n",
    "    \n",
    "    _obs = Func(_obs, S)\n",
    "    obs = torch.tensor(_obs).float()\n",
    "    return obs"
   ]
  },
  {
   "cell_type": "code",
   "execution_count": 546,
   "metadata": {},
   "outputs": [],
   "source": [
    "def argmax2d(tensor):\n",
    "  '''\n",
    "  Find the index of the maximum value in a 2d tensor.\n",
    "\n",
    "  Args:\n",
    "    - tensor: PyTorch tensor of size (n x 1 x d x d)\n",
    "\n",
    "  Returns: nx2 PyTorch tensor containing indexes of max values\n",
    "  '''\n",
    "  n = tensor.size(0)\n",
    "  d = tensor.size(2)\n",
    "  m = tensor.view(n, -1).argmax(1)\n",
    "  return torch.cat(((m / d).view(-1, 1), (m % d).view(-1, 1)), dim=1)"
   ]
  },
  {
   "cell_type": "code",
   "execution_count": 647,
   "metadata": {},
   "outputs": [],
   "source": [
    "rnd = torch.rand(2,1,100,100)\n",
    "pixel = argmax2d(rnd).long()\n"
   ]
  },
  {
   "cell_type": "code",
   "execution_count": 667,
   "metadata": {},
   "outputs": [],
   "source": [
    "import matplotlib.pyplot as plt\n",
    "import random\n",
    "def translation(x, severity):\n",
    "    s = torch.tensor([0.02, 0.04, 0.06, 0.08, 0.10])[severity-1]\n",
    "    num_positions = (x.shape[-1] * s).int()\n",
    "    assert len(x.shape) == 4\n",
    "    assert x.shape[1] == 1\n",
    "    for idx in range(x.shape[0]):\n",
    "        heightmap = x[idx][0].clone()\n",
    "        direction = random.choice(['Left', 'Right', 'Up', 'Down'])\n",
    "        direction = 'Left'\n",
    "        if direction == 'Left':\n",
    "            translated_heightmap = torch.cat((heightmap[:, num_positions:], torch.zeros(heightmap.size(0), num_positions)), dim=1)\n",
    "        if direction == 'Right':\n",
    "            translated_heightmap = torch.cat((torch.zeros(heightmap.size(0), num_positions), heightmap[:, :-num_positions]), dim=1)\n",
    "        if direction == 'Up':\n",
    "            translated_heightmap = torch.cat((heightmap[num_positions:], torch.zeros(num_positions, heightmap.size(1))), dim=0)\n",
    "        if direction == 'Down':\n",
    "            translated_heightmap = torch.cat((torch.zeros(num_positions, heightmap.size(1)), heightmap[:-num_positions]), dim=0)\n",
    "        x[idx][0] = translated_heightmap\n",
    "        plt.figure(figsize=(8, 4))\n",
    "        plt.subplot(1, 2, 1)\n",
    "        plt.imshow(heightmap, cmap='gray')\n",
    "        plt.title('Original Heightmap')\n",
    "        plt.axis('off')\n",
    "\n",
    "        plt.subplot(1, 2, 2)\n",
    "        plt.imshow(translated_heightmap, cmap='gray')\n",
    "        plt.title('translated Heightmap')\n",
    "        plt.axis('off')\n",
    "\n",
    "        plt.show()\n",
    "    return x\n",
    "rnd = torch.rand(5,1,100,100)\n",
    "\n",
    "_ = translation(rnd, 5)\n"
   ]
  },
  {
   "cell_type": "code",
   "execution_count": null,
   "metadata": {},
   "outputs": [],
   "source": []
  },
  {
   "cell_type": "code",
   "execution_count": 629,
   "metadata": {},
   "outputs": [
    {
     "name": "stdout",
     "output_type": "stream",
     "text": [
      "tensor(-5.)\n"
     ]
    }
   ],
   "source": [
    "import random,math\n",
    "import torch.nn.functional as F\n",
    "def rotation(x, severity):\n",
    "    angle_degrees = torch.tensor([5., 10., 15., 20., 25])[severity-1]\n",
    "    if random.choice([True, False]):\n",
    "        angle_degrees *= -1\n",
    "    print(angle_degrees)\n",
    "    assert len(x.shape) == 4\n",
    "    assert x.shape[1] == 1\n",
    "    for idx in range(x.shape[0]):\n",
    "        heightmap = x[idx][0].clone()\n",
    "        rotated_heightmap = F.affine_grid(torch.tensor([[math.cos(math.radians(angle_degrees)), math.sin(math.radians(angle_degrees)), 0],\n",
    "                                                [-math.sin(math.radians(angle_degrees)), math.cos(math.radians(angle_degrees)), 0]]).unsqueeze(0),\n",
    "                                   torch.Size([1, 1, heightmap.size(0), heightmap.size(1)]),\n",
    "                                   align_corners=False)\n",
    "        rotated_heightmap = F.grid_sample(heightmap.unsqueeze(0).unsqueeze(0), rotated_heightmap, align_corners=False)\n",
    "        rotated_heightmap = rotated_heightmap.squeeze()\n",
    "\n",
    "        x[idx][0] = rotated_heightmap\n",
    "        # plt.figure(figsize=(8, 4))\n",
    "        # plt.subplot(1, 2, 1)\n",
    "        # plt.imshow(heightmap, cmap='gray')\n",
    "        # plt.title('Original Heightmap')\n",
    "        # plt.axis('off')\n",
    "\n",
    "        # plt.subplot(1, 2, 2)\n",
    "        # plt.imshow(rotated_heightmap, cmap='gray')\n",
    "        # plt.title('Rotated Heightmap')\n",
    "        # plt.axis('off')\n",
    "\n",
    "        # plt.show()\n",
    "    return x\n",
    "_ = rotation(rnd,1)"
   ]
  },
  {
   "cell_type": "code",
   "execution_count": null,
   "metadata": {},
   "outputs": [],
   "source": []
  }
 ],
 "metadata": {
  "kernelspec": {
   "display_name": "bullet37",
   "language": "python",
   "name": "bullet37"
  },
  "language_info": {
   "codemirror_mode": {
    "name": "ipython",
    "version": 3
   },
   "file_extension": ".py",
   "mimetype": "text/x-python",
   "name": "python",
   "nbconvert_exporter": "python",
   "pygments_lexer": "ipython3",
   "version": "3.7.15"
  },
  "orig_nbformat": 4
 },
 "nbformat": 4,
 "nbformat_minor": 2
}
