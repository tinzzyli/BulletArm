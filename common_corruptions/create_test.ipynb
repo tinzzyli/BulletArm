{
 "cells": [
  {
   "cell_type": "code",
   "execution_count": 1,
   "metadata": {},
   "outputs": [
    {
     "name": "stderr",
     "output_type": "stream",
     "text": [
      "/Users/tingxi/opt/anaconda3/envs/bullet37/lib/python3.7/site-packages/tqdm/auto.py:22: TqdmWarning: IProgress not found. Please update jupyter and ipywidgets. See https://ipywidgets.readthedocs.io/en/stable/user_install.html\n",
      "  from .autonotebook import tqdm as notebook_tqdm\n"
     ]
    }
   ],
   "source": [
    "import corruptions\n",
    "import numpy\n",
    "import torch\n",
    "import corruption_constants\n",
    "import numpy as np\n",
    "import torch\n",
    "import numpy as np\n",
    "import math\n",
    "import time\n",
    "import torch.nn.functional as F\n",
    "import matplotlib.pyplot as plt\n",
    "import random"
   ]
  },
  {
   "cell_type": "code",
   "execution_count": 2,
   "metadata": {},
   "outputs": [],
   "source": [
    "c=(\"gaussian_noise\",\"shot_noise\",\"impulse_noise\",\"motion_blur\",\"zoom_blur\",\"fog\",\"brightness\",\"contrast\",\"jpeg_compression\")"
   ]
  },
  {
   "cell_type": "code",
   "execution_count": 3,
   "metadata": {},
   "outputs": [],
   "source": [
    "corrupt_func = c[0]\n",
    "severity = 5\n",
    "# print(torch.min(obs), torch.max(obs), torch.mean(obs), torch.sum(obs), torch.std(obs))\n",
    "# tensor(0.) tensor(0.0299) tensor(0.0007) tensor(56.0894) tensor(0.0045)"
   ]
  },
  {
   "cell_type": "code",
   "execution_count": 8,
   "metadata": {},
   "outputs": [
    {
     "data": {
      "image/png": "[encoded data removed]",
      "text/plain": [
       "<Figure size 800x400 with 2 Axes>"
      ]
     },
     "metadata": {},
     "output_type": "display_data"
    }
   ],
   "source": [
    "def rotation(x, severity):\n",
    "    x = x.clone()\n",
    "    angle_degrees = torch.tensor([5., 10., 15., 20., 25])[severity-1]\n",
    "    assert len(x.shape) == 4\n",
    "    assert x.shape[1] == 1\n",
    "    for idx in range(x.shape[0]):\n",
    "\n",
    "        if random.choice([True, False]):\n",
    "            angle_degrees *= -1\n",
    "\n",
    "        heightmap = x[idx][0].clone()\n",
    "        rotated_heightmap = F.affine_grid(torch.tensor([[math.cos(math.radians(angle_degrees)), math.sin(math.radians(angle_degrees)), 0],\n",
    "                                                [-math.sin(math.radians(angle_degrees)), math.cos(math.radians(angle_degrees)), 0]]).unsqueeze(0),\n",
    "                                   torch.Size([1, 1, heightmap.size(0), heightmap.size(1)]),\n",
    "                                   align_corners=False)\n",
    "        rotated_heightmap = F.grid_sample(heightmap.unsqueeze(0).unsqueeze(0), rotated_heightmap, align_corners=False)\n",
    "        rotated_heightmap = rotated_heightmap.squeeze()\n",
    "        x[idx][0] = rotated_heightmap\n",
    "        plt.figure(figsize=(8, 4))\n",
    "        plt.subplot(1, 2, 1)\n",
    "        plt.imshow(heightmap, cmap='gray')\n",
    "        plt.title('Original Heightmap')\n",
    "        plt.axis('off')\n",
    "\n",
    "        plt.subplot(1, 2, 2)\n",
    "        plt.imshow(rotated_heightmap, cmap='gray')\n",
    "        plt.title('Rotated Heightmap')\n",
    "        plt.axis('off')\n",
    "\n",
    "        plt.show()\n",
    "    return x\n",
    "\n",
    "rnd = torch.ones(1,1,128,128)\n",
    "_ = rotation(rnd.clone(),severity=1)"
   ]
  },
  {
   "cell_type": "code",
   "execution_count": null,
   "metadata": {},
   "outputs": [],
   "source": [
    "def translation(x, severity):\n",
    "    x = x.clone()\n",
    "    s = torch.tensor([0.02, 0.04, 0.06, 0.08, 0.10])[severity-1]\n",
    "    num_positions = (x.shape[-1] * s).int()\n",
    "    assert len(x.shape) == 4\n",
    "    assert x.shape[1] == 1\n",
    "    for idx in range(x.shape[0]):\n",
    "        heightmap = x[idx][0].clone()\n",
    "        direction = random.choice(['Left', 'Right', 'Up', 'Down'])\n",
    "        if direction == 'Left':\n",
    "            translated_heightmap = torch.cat((heightmap[:, num_positions:], torch.zeros(heightmap.size(0), num_positions)), dim=1)\n",
    "        if direction == 'Right':\n",
    "            translated_heightmap = torch.cat((torch.zeros(heightmap.size(0), num_positions), heightmap[:, :-num_positions]), dim=1)\n",
    "        if direction == 'Up':\n",
    "            translated_heightmap = torch.cat((heightmap[num_positions:], torch.zeros(num_positions, heightmap.size(1))), dim=0)\n",
    "        if direction == 'Down':\n",
    "            translated_heightmap = torch.cat((torch.zeros(num_positions, heightmap.size(1)), heightmap[:-num_positions]), dim=0)\n",
    "        x[idx][0] = translated_heightmap\n",
    "        plt.figure(figsize=(8, 4))\n",
    "        plt.subplot(1, 2, 1)\n",
    "        plt.imshow(heightmap, cmap='gray')\n",
    "        plt.title('Original Heightmap')\n",
    "        plt.axis('off')\n",
    "\n",
    "        plt.subplot(1, 2, 2)\n",
    "        plt.imshow(translated_heightmap, cmap='gray')\n",
    "        plt.title('translated Heightmap')\n",
    "        plt.axis('off')\n",
    "\n",
    "        plt.show()\n",
    "    return x"
   ]
  }
 ],
 "metadata": {
  "kernelspec": {
   "display_name": "bullet37",
   "language": "python",
   "name": "bullet37"
  },
  "language_info": {
   "codemirror_mode": {
    "name": "ipython",
    "version": 3
   },
   "file_extension": ".py",
   "mimetype": "text/x-python",
   "name": "python",
   "nbconvert_exporter": "python",
   "pygments_lexer": "ipython3",
   "version": "3.7.15"
  },
  "orig_nbformat": 4
 },
 "nbformat": 4,
 "nbformat_minor": 2
}
